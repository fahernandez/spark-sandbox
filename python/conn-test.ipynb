{
 "cells": [
  {
   "cell_type": "code",
   "execution_count": 1,
   "id": "2f0cf865-4843-45e3-aaf0-aa911e467911",
   "metadata": {},
   "outputs": [],
   "source": [
    "from pyspark.sql import SparkSession\n",
    "from pyspark.sql.functions import count\n",
    "import pandas as pd"
   ]
  },
  {
   "cell_type": "code",
   "execution_count": 11,
   "id": "5699688e-09cd-41f4-b2e4-8c407ed192ed",
   "metadata": {},
   "outputs": [],
   "source": [
    "spark = SparkSession.builder \\\n",
    "    .master(\"spark://spark-master:7077\") \\\n",
    "    .appName(\"PythonSpark\") \\\n",
    "    .config(\"spark.executor.memory\", \"3g\") \\\n",
    "    .config(\"spark.executor.cores\", \"6\")\\\n",
    "    .config(\"spark.memory.fraction\", \"0.9\")\\\n",
    "    .config(\"spark.dynamicAllocation.enabled\", \"false\")\\\n",
    "    .config(\"spark.shuffle.service.enabled\", \"false\")\\\n",
    "    .getOrCreate()"
   ]
  },
  {
   "cell_type": "code",
   "execution_count": 12,
   "id": "e108db50-aec9-4594-af5c-ed477c9deefe",
   "metadata": {},
   "outputs": [],
   "source": [
    "sc = spark.sparkContext"
   ]
  },
  {
   "cell_type": "code",
   "execution_count": 18,
   "id": "ce2657fb-db76-4cae-8fdf-ad94dfcc436b",
   "metadata": {},
   "outputs": [
    {
     "data": {
      "text/plain": [
       "[('ever', 2), ('this', 1), ('best', 1), ('the', 1), ('is', 1), ('mac', 1)]"
      ]
     },
     "execution_count": 18,
     "metadata": {},
     "output_type": "execute_result"
    }
   ],
   "source": [
    "words=['this','is','the','best','mac','ever','ever']\n",
    "wordRDD=sc.parallelize(words)\n",
    "wordRDD.\\\n",
    "map(lambda word: (word, 1)). \\\n",
    "reduceByKey(lambda w,v: w + v).\\\n",
    "collect()"
   ]
  }
 ],
 "metadata": {
  "kernelspec": {
   "display_name": "Data Science Project",
   "language": "python",
   "name": "data-analysis"
  },
  "language_info": {
   "codemirror_mode": {
    "name": "ipython",
    "version": 3
   },
   "file_extension": ".py",
   "mimetype": "text/x-python",
   "name": "python",
   "nbconvert_exporter": "python",
   "pygments_lexer": "ipython3",
   "version": "3.7.12"
  }
 },
 "nbformat": 4,
 "nbformat_minor": 5
}
